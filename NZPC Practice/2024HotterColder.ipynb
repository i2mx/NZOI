{
 "cells": [
  {
   "cell_type": "code",
   "execution_count": 127,
   "id": "05c0da5c",
   "metadata": {},
   "outputs": [],
   "source": [
    "import numpy as np\n",
    "import matplotlib.pyplot as plt"
   ]
  },
  {
   "cell_type": "code",
   "execution_count": 128,
   "id": "225884d8",
   "metadata": {},
   "outputs": [],
   "source": [
    "def perpendicular(p1, p2):\n",
    "    x1, y1 = p1\n",
    "    x2, y2 = p2\n",
    "\n",
    "    return (2*(x2 - x1), 2*(y2 - y1), (x1+x2)*(x2-x1) + (y1+y2)*(y2-y1))"
   ]
  },
  {
   "cell_type": "code",
   "execution_count": 129,
   "id": "337c8a91",
   "metadata": {},
   "outputs": [],
   "source": [
    "def plot(a,b,c):\n",
    "    if b != 0:\n",
    "        X = np.linspace(0, 10, 100)\n",
    "        plt.plot(X, (c-a*X) / b)\n",
    "    else: \n",
    "        Y = np.linspace(0, 10, 100)\n",
    "        plt.plot((c-b*Y)/a, Y)"
   ]
  },
  {
   "cell_type": "code",
   "execution_count": 130,
   "id": "c157aae0",
   "metadata": {},
   "outputs": [],
   "source": [
    "def intersection(p1, p2, lines):\n",
    "    x1, y1 = p1\n",
    "    x2, y2 = p2\n",
    "    a, b, c = lines\n",
    "\n",
    "    bottom = a * (x2 - x1) + b * (y2 - y1)\n",
    "    if bottom == 0:\n",
    "        return -1\n",
    "\n",
    "    top = c - a * x1 - b * y1\n",
    "\n",
    "    return top / bottom"
   ]
  },
  {
   "cell_type": "code",
   "execution_count": 131,
   "id": "fd4514c4",
   "metadata": {},
   "outputs": [],
   "source": [
    "def sign(x):\n",
    "    if x == 0:\n",
    "        return 0\n",
    "    if x < 0:\n",
    "        return -1\n",
    "    if x > 0:\n",
    "        return 1"
   ]
  },
  {
   "cell_type": "code",
   "execution_count": 132,
   "id": "a67e9221",
   "metadata": {},
   "outputs": [],
   "source": [
    "def area(hull):\n",
    "    A = 0\n",
    "    N = len(hull)\n",
    "    for i in range(N):\n",
    "        A += 1/2 * hull[i][0] * hull[(i + 1) % N][1]\n",
    "        A -= 1/2 * hull[i][1] * hull[(i + 1) % N][0]\n",
    "\n",
    "    return abs(A)\n"
   ]
  },
  {
   "cell_type": "code",
   "execution_count": null,
   "id": "c6e3702f",
   "metadata": {},
   "outputs": [
    {
     "name": "stdout",
     "output_type": "stream",
     "text": [
      "50.00\n",
      "37.50\n",
      "12.50\n",
      "0.00\n"
     ]
    }
   ],
   "source": [
    "N = int(input())\n",
    "\n",
    "hull = [(0, 0), (0, 10), (10, 10), (10, 0)]\n",
    "previous = (0.0, 0.0)\n",
    "\n",
    "# plt.xlim(-0.1, 10.1)\n",
    "# plt.ylim(-0.1, 10.1)\n",
    "\n",
    "for _ in range(N):\n",
    "    x1, y1 = previous\n",
    "    x2, y2, direction = input().split()\n",
    "    x2, y2 = map(float, (x2, y2))\n",
    "\n",
    "    a, b, c = perpendicular((x1, y1), (x2, y2))\n",
    "\n",
    "    s = None\n",
    "    if direction[0] == \"C\":\n",
    "        s = sign(a * x1 + b * y1 - c)\n",
    "    elif direction[0] == \"H\":\n",
    "        s = sign(a * x2 + b * y2 - c)\n",
    "    else:\n",
    "        ...\n",
    "\n",
    "    new_points = []\n",
    "\n",
    "    for i in range(len(hull)):\n",
    "        xx1, yy1 = hull[i]\n",
    "        xx2, yy2 = hull[(i + 1) % len(hull)]\n",
    "\n",
    "        t = intersection((xx1, yy1), (xx2, yy2), (a, b, c))\n",
    "\n",
    "        ss = a*xx1 + b*yy1 - c\n",
    "        if sign(ss) == s or abs(ss) < 1e-1:\n",
    "            new_points.append((xx1, yy1))\n",
    "\n",
    "        if 0 < t and t < 1:  # an intersection takes place\n",
    "            xi, yi = xx1*(1-t) + xx2*t, yy1*(1-t) + yy2*t\n",
    "            new_points.append((xi, yi))\n",
    "\n",
    "    hull = new_points\n",
    "    A = area(hull)\n",
    "    print(f\"{A:.2f}\")\n",
    "    # plot(a, b, c)\n",
    "    previous = (x2, y2)\n",
    "\n",
    "# plt.scatter([h[0] for h in hull], [h[1] for h in hull])\n",
    "# plt.show() for i in range(100):"
   ]
  },
  {
   "cell_type": "code",
   "execution_count": null,
   "id": "f6686f87",
   "metadata": {},
   "outputs": [
    {
     "data": {
      "text/plain": [
       "-0.0"
      ]
     },
     "execution_count": 134,
     "metadata": {},
     "output_type": "execute_result"
    }
   ],
   "source": []
  },
  {
   "cell_type": "code",
   "execution_count": null,
   "id": "70ae7962",
   "metadata": {},
   "outputs": [
    {
     "data": {
      "text/plain": [
       "0.8235294117647058"
      ]
     },
     "execution_count": 135,
     "metadata": {},
     "output_type": "execute_result"
    }
   ],
   "source": []
  }
 ],
 "metadata": {
  "kernelspec": {
   "display_name": "Python 3",
   "language": "python",
   "name": "python3"
  },
  "language_info": {
   "codemirror_mode": {
    "name": "ipython",
    "version": 3
   },
   "file_extension": ".py",
   "mimetype": "text/x-python",
   "name": "python",
   "nbconvert_exporter": "python",
   "pygments_lexer": "ipython3",
   "version": "3.11.1"
  }
 },
 "nbformat": 4,
 "nbformat_minor": 5
}
